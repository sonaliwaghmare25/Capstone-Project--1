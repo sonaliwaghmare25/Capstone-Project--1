{
 "cells": [
  {
   "cell_type": "markdown",
   "id": "6119f68f",
   "metadata": {},
   "source": [
    "# 1. Adidas"
   ]
  },
  {
   "cell_type": "code",
   "execution_count": 2,
   "id": "16c27b8c",
   "metadata": {},
   "outputs": [],
   "source": [
    "import selenium\n",
    "import pandas as pd\n",
    "from selenium import webdriver\n",
    "import warnings\n",
    "warnings.filterwarnings('ignore')\n",
    "from selenium.webdriver.common.by import By\n",
    "import time"
   ]
  },
  {
   "cell_type": "code",
   "execution_count": 3,
   "id": "e97b915f",
   "metadata": {},
   "outputs": [],
   "source": [
    "driver = webdriver.Chrome()\n",
    "\n",
    "driver.get(\"https://www.adidas.com/\")\n",
    "driver.maximize_window()\n"
   ]
  },
  {
   "cell_type": "code",
   "execution_count": 4,
   "id": "a6c7eecf",
   "metadata": {},
   "outputs": [],
   "source": [
    "search=driver.find_element(By.XPATH,'/html/body/div[1]/div[2]/div[2]/div/header/div[2]/div/div[2]/div/input')\n",
    "search.send_keys('Outdoor Shoes')"
   ]
  },
  {
   "cell_type": "code",
   "execution_count": 5,
   "id": "ffd999c2",
   "metadata": {},
   "outputs": [],
   "source": [
    "click=driver.find_element(By.XPATH,'/html/body/div[1]/div[2]/div[2]/div/header/div[2]/div/div[2]/div/div[2]/div/div[1]/div[2]/a[2]/div[1]')\n",
    "click.click()"
   ]
  },
  {
   "cell_type": "code",
   "execution_count": null,
   "id": "75dd03fb",
   "metadata": {},
   "outputs": [],
   "source": []
  },
  {
   "cell_type": "markdown",
   "id": "67c0a9f6",
   "metadata": {},
   "source": [
    "# 2. Columbia"
   ]
  },
  {
   "cell_type": "code",
   "execution_count": 6,
   "id": "d4554da1",
   "metadata": {},
   "outputs": [],
   "source": [
    "from selenium import webdriver\n",
    "from selenium.webdriver.chrome.options import Options\n",
    "from webdriver_manager.chrome import ChromeDriverManager\n",
    "import warnings\n",
    "warnings.filterwarnings('ignore')\n",
    "from selenium.webdriver.common.by import By\n",
    "import time\n",
    "import pandas as pd"
   ]
  },
  {
   "cell_type": "code",
   "execution_count": 8,
   "id": "8a7fdf93",
   "metadata": {},
   "outputs": [],
   "source": [
    "url = 'https://www.columbia.com/'\n",
    "options = webdriver.ChromeOptions()\n",
    "options.add_experimental_option(\"excludeSwitches\", ['enable-automation'])\n",
    "options.add_argument('--disable-blink-features=AutomationControlled')\n",
    "options.add_argument(\n",
    "    \"user-agent=Mozilla/5.0 (Windows NT 10.0; Win64; x64) AppleWebKit/537.36 (KHTML, like Gecko) Chrome/87.0.4280.88 Safari/537.36\")\n",
    "options.add_argument(\"--remote-debugging-port=9222\")\n",
    "\n",
    "driver = webdriver.Chrome(options=options)\n",
    "driver.get(url)"
   ]
  },
  {
   "cell_type": "code",
   "execution_count": 9,
   "id": "fbd9328a",
   "metadata": {},
   "outputs": [],
   "source": [
    "shoes=driver.find_element(By.XPATH,'/html/body/header/nav/div/div/div/div/div[2]/div/nav/ul/li[4]/a/span[1]')\n",
    "shoes.click()"
   ]
  },
  {
   "cell_type": "markdown",
   "id": "61d5eff8",
   "metadata": {},
   "source": [
    "Choose hiking maually for further scraping."
   ]
  },
  {
   "cell_type": "code",
   "execution_count": null,
   "id": "639f9171",
   "metadata": {},
   "outputs": [],
   "source": []
  },
  {
   "cell_type": "markdown",
   "id": "4c6d3082",
   "metadata": {},
   "source": [
    "# 3. Nike"
   ]
  },
  {
   "cell_type": "code",
   "execution_count": 10,
   "id": "e27d8ce2",
   "metadata": {},
   "outputs": [],
   "source": [
    "import selenium\n",
    "import pandas as pd\n",
    "from selenium import webdriver\n",
    "import warnings\n",
    "warnings.filterwarnings('ignore')\n",
    "from selenium.webdriver.common.by import By\n",
    "import time"
   ]
  },
  {
   "cell_type": "code",
   "execution_count": 12,
   "id": "556c5518",
   "metadata": {},
   "outputs": [],
   "source": [
    "driver = webdriver.Chrome()\n",
    "\n",
    "driver.get(\"https://www.nike.com/\")"
   ]
  },
  {
   "cell_type": "code",
   "execution_count": 13,
   "id": "d7e83d4d",
   "metadata": {},
   "outputs": [],
   "source": [
    "new_featured=driver.find_element(By.XPATH,'/html/body/div[3]/div/div[3]/header/div[1]/div[2]/nav/div[2]/div/ul/li[1]/button')\n",
    "new_featured.click()"
   ]
  },
  {
   "cell_type": "markdown",
   "id": "05ae5456",
   "metadata": {},
   "source": [
    "Choose Latest Shoes for further scraping."
   ]
  },
  {
   "cell_type": "code",
   "execution_count": null,
   "id": "66723ecb",
   "metadata": {},
   "outputs": [],
   "source": []
  },
  {
   "cell_type": "markdown",
   "id": "89b63fab",
   "metadata": {},
   "source": [
    "# 4.Puma"
   ]
  },
  {
   "cell_type": "code",
   "execution_count": 15,
   "id": "32ca8795",
   "metadata": {},
   "outputs": [],
   "source": [
    "import selenium \n",
    "import pandas as pd\n",
    "from selenium import webdriver \n",
    "import warnings\n",
    "warnings.filterwarnings('ignore')\n",
    "from selenium.webdriver.common.by import By\n",
    "import time"
   ]
  },
  {
   "cell_type": "code",
   "execution_count": 16,
   "id": "7b321ac3",
   "metadata": {},
   "outputs": [],
   "source": [
    "driver = webdriver.Chrome()\n",
    "\n",
    "driver.get(\"https://us.puma.com/us/en\")"
   ]
  },
  {
   "cell_type": "code",
   "execution_count": 17,
   "id": "dc69c474",
   "metadata": {},
   "outputs": [],
   "source": [
    "classic=driver.find_element(By.XPATH,'/html/body/div[1]/div[1]/div/nav/div/ul/li[6]/div/div[1]/a/span')\n",
    "classic.click()"
   ]
  },
  {
   "cell_type": "markdown",
   "id": "3e49dd0b",
   "metadata": {},
   "source": [
    "Choose Basket for further scraping."
   ]
  },
  {
   "cell_type": "markdown",
   "id": "cb26df93",
   "metadata": {},
   "source": [
    "# 5.Sketchers"
   ]
  },
  {
   "cell_type": "code",
   "execution_count": 18,
   "id": "52be86f3",
   "metadata": {},
   "outputs": [],
   "source": [
    "import selenium \n",
    "import pandas as pd\n",
    "from selenium import webdriver \n",
    "import warnings\n",
    "warnings.filterwarnings('ignore')\n",
    "from selenium.webdriver.common.by import By\n",
    "import time"
   ]
  },
  {
   "cell_type": "code",
   "execution_count": 22,
   "id": "9fe194e8",
   "metadata": {},
   "outputs": [],
   "source": [
    "url = 'https://www.skechers.com/'\n",
    "options = webdriver.ChromeOptions()\n",
    "options.add_experimental_option(\"excludeSwitches\", ['enable-automation'])\n",
    "options.add_argument('--disable-blink-features=AutomationControlled')\n",
    "options.add_argument(\n",
    "    \"user-agent=Mozilla/5.0 (Windows NT 10.0; Win64; x64) AppleWebKit/537.36 (KHTML, like Gecko) Chrome/87.0.4280.88 Safari/537.36\")\n",
    "options.add_argument(\"--remote-debugging-port=9222\")\n",
    "\n",
    "driver = webdriver.Chrome(options=options)\n",
    "driver.get(url)"
   ]
  },
  {
   "cell_type": "code",
   "execution_count": 23,
   "id": "766ca778",
   "metadata": {},
   "outputs": [],
   "source": [
    "search=driver.find_element(By.XPATH,'/html/body/div[2]/header/nav[2]/div/div[1]/div/div/div[2]/div[1]/div/div/form/input[1]')\n",
    "search.send_keys('Running Shoes')"
   ]
  },
  {
   "cell_type": "code",
   "execution_count": 24,
   "id": "af389167",
   "metadata": {},
   "outputs": [],
   "source": [
    "search_button=driver.find_element(By.XPATH,'/html/body/div[2]/header/nav[2]/div/div[1]/div/div/div[2]/div[1]/div/div/form/button')\n",
    "search_button.click()"
   ]
  },
  {
   "cell_type": "code",
   "execution_count": null,
   "id": "61077132",
   "metadata": {},
   "outputs": [],
   "source": []
  },
  {
   "cell_type": "markdown",
   "id": "3ae3edc0",
   "metadata": {},
   "source": [
    "# 6. Woodlands"
   ]
  },
  {
   "cell_type": "code",
   "execution_count": 25,
   "id": "b08f0d00",
   "metadata": {},
   "outputs": [],
   "source": [
    "import selenium \n",
    "import pandas as pd\n",
    "from selenium import webdriver \n",
    "import warnings\n",
    "warnings.filterwarnings('ignore')\n",
    "from selenium.webdriver.common.by import By\n",
    "import time"
   ]
  },
  {
   "cell_type": "code",
   "execution_count": 26,
   "id": "dc293374",
   "metadata": {},
   "outputs": [],
   "source": [
    "driver = webdriver.Chrome()\n",
    "\n",
    "driver.get(\"https://www.woodlandworldwide.com/\")"
   ]
  },
  {
   "cell_type": "markdown",
   "id": "3bce9a52",
   "metadata": {},
   "source": [
    "Choose Men-Footwear-Boots for further scraping."
   ]
  },
  {
   "cell_type": "code",
   "execution_count": null,
   "id": "fd4a75f2",
   "metadata": {},
   "outputs": [],
   "source": []
  }
 ],
 "metadata": {
  "kernelspec": {
   "display_name": "Python 3 (ipykernel)",
   "language": "python",
   "name": "python3"
  },
  "language_info": {
   "codemirror_mode": {
    "name": "ipython",
    "version": 3
   },
   "file_extension": ".py",
   "mimetype": "text/x-python",
   "name": "python",
   "nbconvert_exporter": "python",
   "pygments_lexer": "ipython3",
   "version": "3.9.13"
  }
 },
 "nbformat": 4,
 "nbformat_minor": 5
}
